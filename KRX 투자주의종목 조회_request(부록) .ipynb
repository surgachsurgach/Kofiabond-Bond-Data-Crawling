{
 "cells": [
  {
   "cell_type": "code",
   "execution_count": null,
   "metadata": {},
   "outputs": [],
   "source": [
    "import time\n",
    "import requests\n",
    "import pandas as pd\n",
    "from io import BytesIO"
   ]
  },
  {
   "cell_type": "code",
   "execution_count": null,
   "metadata": {},
   "outputs": [],
   "source": [
    "import time\n",
    "import requests\n",
    "import pandas as pd\n",
    "from io import BytesIO\n",
    "\n",
    "def krx_foreign_holding(f_date, t_date):\n",
    "\n",
    "    from_date = f_date\n",
    "    to_date = t_date\n",
    "\n",
    "    gen_req_url = 'http://moc.krx.co.kr/contents/COM/GenerateOTP.jspx'\n",
    "    query_str_parms = {\n",
    "        'name': 'fileDown',\n",
    "        'filetype': 'xls',\n",
    "        'url': 'SVL/M/03010200/moc03010200',\n",
    "        'market_gubun': 'ALL',\n",
    "        'fromDate': str(from_date),\n",
    "        'toDate': str(to_date),\n",
    "        'pagePath': '/contents/SVL/M/03010200/MOC03010200.jsp'\n",
    "    }\n",
    "\n",
    "    r = requests.get(gen_req_url, query_str_parms)\n",
    "    time.sleep(2.0)\n",
    "\n",
    "    gen_req_url = 'http://file.krx.co.kr/download.jspx'\n",
    "    headers = {\n",
    "        'Referer': 'http://marketdata.krx.co.kr/mdi'\n",
    "    }\n",
    "    form_data = {\n",
    "        'code': r.content\n",
    "    }\n",
    "    r = requests.post(gen_req_url, form_data,headers = headers)\n",
    "    time.sleep(2.0)\n",
    "\n",
    "    df = pd.read_excel(BytesIO(r.content))\n",
    "\n",
    "    file_dir = 'C://Users\\hyesung\\Desktop\\혜성\\df 실습//'\n",
    "    file_name = 'KRX_투자주의종목' + str(to_date)+ '.xlsx'\n",
    "\n",
    "    df.to_excel(file_dir + file_name)\n",
    "\n",
    "    print('KRX_81006_외국인보유량_크롤링완료')\n",
    "\n",
    "\n",
    "for year in range(2018, 2019):\n",
    "    for month in range(1, 13):\n",
    "        for day in range(1, 32):\n",
    "            t_date = year * 10000 + month * 100 + day * 1   # YYYYMMDD\n",
    "            f_date = t_date -31\n",
    "\n",
    "            if t_date <= 20181227:\n",
    "                krx_foreign_holding(f_date, t_date)"
   ]
  },
  {
   "cell_type": "code",
   "execution_count": null,
   "metadata": {},
   "outputs": [],
   "source": []
  }
 ],
 "metadata": {
  "kernelspec": {
   "display_name": "Python 3",
   "language": "python",
   "name": "python3"
  },
  "language_info": {
   "codemirror_mode": {
    "name": "ipython",
    "version": 3
   },
   "file_extension": ".py",
   "mimetype": "text/x-python",
   "name": "python",
   "nbconvert_exporter": "python",
   "pygments_lexer": "ipython3",
   "version": "3.7.1"
  }
 },
 "nbformat": 4,
 "nbformat_minor": 2
}
